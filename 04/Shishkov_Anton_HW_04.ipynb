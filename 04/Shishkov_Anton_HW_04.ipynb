{
 "cells": [
  {
   "cell_type": "markdown",
   "id": "b8c032e2-3979-4151-a77f-002b503920e6",
   "metadata": {},
   "source": [
    "Шишков Антон"
   ]
  },
  {
   "cell_type": "markdown",
   "id": "c06baab8-7e1e-49e5-9579-7f64026b5c05",
   "metadata": {},
   "source": [
    "# Задача №1"
   ]
  },
  {
   "cell_type": "markdown",
   "id": "878aec7c-2772-45ab-8554-376318fb3bba",
   "metadata": {},
   "source": [
    "Напишите функцию, которая принимает на вход строку и проверяет, является \n",
    "ли она валидным транспортным номером (1 буква, 3 цифры, 2 буквы, 2– \r\n",
    "цифры). Обратите внимание, что не все буквы кириллического алфави а\r\n",
    "используются в транспортных номерах."
   ]
  },
  {
   "cell_type": "code",
   "execution_count": null,
   "id": "e37df1cf-4708-4dca-b696-83bfd9bc76c1",
   "metadata": {},
   "outputs": [],
   "source": [
    "import re"
   ]
  },
  {
   "cell_type": "code",
   "execution_count": null,
   "id": "63490233-462a-4b8d-803c-9f8561c780f2",
   "metadata": {},
   "outputs": [],
   "source": [
    "def foo(string):\n",
    "    valid_pattern = \"[A-Z, А-Я]{1}\\d{3}[A-Z, А-Я]{2}\\d{2}\"\n",
    "    if re.match(valid_pattern, string):\n",
    "        print(f\"Номер {string} валиден. Регион: {string[-2:]}.\")\n",
    "    else:\n",
    "        print(\"Номер не валиден\")"
   ]
  },
  {
   "cell_type": "code",
   "execution_count": null,
   "id": "3585a645-a32e-4e4a-b07f-1cb9219b8a29",
   "metadata": {},
   "outputs": [],
   "source": [
    "nums = [\n",
    "    \"А222BС96\",\n",
    "    \"АБ22ВВ193\"\n",
    "]"
   ]
  },
  {
   "cell_type": "code",
   "execution_count": null,
   "id": "ef26b81d-7fe1-46fa-a673-26f40a0462a9",
   "metadata": {},
   "outputs": [],
   "source": [
    "for string in nums:\n",
    "    foo(string)"
   ]
  },
  {
   "cell_type": "markdown",
   "id": "5bd6f8bf-18ee-48cb-ba4a-73987d8cc0fb",
   "metadata": {},
   "source": [
    "# Задача №2"
   ]
  },
  {
   "cell_type": "markdown",
   "id": "3a22c10a-a22f-4081-b9d0-676962799e6f",
   "metadata": {},
   "source": [
    "Напишите функцию, которая будет удалять все последовательные повторы \n",
    "слов из заданной строки при помощи регулярных выражений."
   ]
  },
  {
   "cell_type": "code",
   "execution_count": null,
   "id": "db4a4ee1-0764-4234-9a0c-e33477ad6630",
   "metadata": {},
   "outputs": [],
   "source": [
    "string = \"Напишите функцию функцию, которая будет будет будет будет удалять все все все все последовательные повторы слов из из из из заданной строки строки при помощи регулярных выражений\""
   ]
  },
  {
   "cell_type": "code",
   "execution_count": null,
   "id": "92c01cad-78e1-4655-b2a2-c899350bdbb5",
   "metadata": {},
   "outputs": [],
   "source": [
    "target = \"Напишите функцию, которая будет удалять все последовательные повторы слов из заданной строки при помощи регулярных выражений\""
   ]
  },
  {
   "cell_type": "code",
   "execution_count": null,
   "id": "68f9ed96-e944-405b-938f-7f4798c8bf6b",
   "metadata": {},
   "outputs": [],
   "source": [
    "def foo(string):\n",
    "    pattern = r'\\b(\\w+)(?:[.,;!?:]*\\s+|\\s+)(\\1)\\b'\n",
    "    while re.sub(pattern, r'\\1', string):\n",
    "        return re.sub(pattern, r'\\1', re.sub(pattern, r'\\1', string))"
   ]
  },
  {
   "cell_type": "code",
   "execution_count": null,
   "id": "3c24f6cf-3d12-4ad1-8675-2ec4f879522f",
   "metadata": {},
   "outputs": [],
   "source": [
    "foo(string) == target"
   ]
  },
  {
   "cell_type": "code",
   "execution_count": null,
   "id": "1cf52857-dc56-4227-bd38-f1896bda9d68",
   "metadata": {},
   "outputs": [],
   "source": [
    "foo(string)"
   ]
  },
  {
   "cell_type": "code",
   "execution_count": null,
   "id": "1f9234ed-558a-4498-a5c2-92300dc7ec08",
   "metadata": {},
   "outputs": [],
   "source": [
    "target"
   ]
  },
  {
   "cell_type": "code",
   "execution_count": null,
   "id": "2f3a3557-8069-4629-9d82-f881a3ee9b4e",
   "metadata": {},
   "outputs": [],
   "source": []
  }
 ],
 "metadata": {
  "kernelspec": {
   "display_name": "anaconda-ai-2024.04-py310",
   "language": "python",
   "name": "conda-env-anaconda-ai-2024.04-py310-py"
  },
  "language_info": {
   "codemirror_mode": {
    "name": "ipython",
    "version": 3
   },
   "file_extension": ".py",
   "mimetype": "text/x-python",
   "name": "python",
   "nbconvert_exporter": "python",
   "pygments_lexer": "ipython3",
   "version": "3.10.13"
  }
 },
 "nbformat": 4,
 "nbformat_minor": 5
}
