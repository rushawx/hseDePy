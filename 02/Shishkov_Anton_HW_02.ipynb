{
 "cells": [
  {
   "cell_type": "markdown",
   "id": "7f6e323a-4261-4cd6-87be-3ee680b4936d",
   "metadata": {},
   "source": [
    "Шишков Антон"
   ]
  },
  {
   "cell_type": "markdown",
   "id": "9e48e99c-f725-47f0-bbc7-12ef983174d9",
   "metadata": {},
   "source": [
    "# Задача №1"
   ]
  },
  {
   "cell_type": "markdown",
   "id": "15f42f65-305a-42e8-9b2a-a34967906f3a",
   "metadata": {},
   "source": [
    "Печатные газеты использовали свой формат дат для каждого выпуска. Для каждой\r\n",
    "газеты из списка напишите формат указанной даты для перевода в объект datetime:\r\n",
    "The Moscow Times - Wednesday, October 2, 2002\r\n",
    "The Guardian - Friday, 11.10.13\r\n",
    "Daily News - Thursday, 18 August 1977."
   ]
  },
  {
   "cell_type": "code",
   "execution_count": 4,
   "id": "c8b7c290-c3b5-438c-b15d-e828cbe48eb8",
   "metadata": {},
   "outputs": [],
   "source": [
    "import datetime"
   ]
  },
  {
   "cell_type": "code",
   "execution_count": 5,
   "id": "446a623b-58b9-40e8-a3e0-e68364016ef6",
   "metadata": {},
   "outputs": [
    {
     "data": {
      "text/plain": [
       "datetime.datetime(2002, 10, 2, 0, 0)"
      ]
     },
     "execution_count": 5,
     "metadata": {},
     "output_type": "execute_result"
    }
   ],
   "source": [
    "datetime.datetime.strptime(\"The Moscow Times - Wednesday, October 2, 2002\".split(\" - \")[1], \"%A, %B %d, %Y\")"
   ]
  },
  {
   "cell_type": "code",
   "execution_count": 6,
   "id": "31a9e3b2-2c41-469b-900c-ac8214d2c0dc",
   "metadata": {},
   "outputs": [
    {
     "data": {
      "text/plain": [
       "datetime.datetime(2013, 10, 11, 0, 0)"
      ]
     },
     "execution_count": 6,
     "metadata": {},
     "output_type": "execute_result"
    }
   ],
   "source": [
    "datetime.datetime.strptime(\"The Guardian - Friday, 11.10.13\".split(\" - \")[1], \"%A, %d.%m.%y\")"
   ]
  },
  {
   "cell_type": "code",
   "execution_count": 7,
   "id": "00c1dc05-d6b9-4d22-875f-c0cad796df03",
   "metadata": {},
   "outputs": [
    {
     "data": {
      "text/plain": [
       "datetime.datetime(1977, 8, 18, 0, 0)"
      ]
     },
     "execution_count": 7,
     "metadata": {},
     "output_type": "execute_result"
    }
   ],
   "source": [
    "datetime.datetime.strptime(\"Daily News - Thursday, 18 August 1977\".split(\" - \")[1], \"%A, %d %B %Y\")"
   ]
  },
  {
   "cell_type": "markdown",
   "id": "13f9df40-c6bd-4a8d-979b-d201750acc46",
   "metadata": {},
   "source": [
    "# Задача №2"
   ]
  },
  {
   "cell_type": "markdown",
   "id": "28299429-1751-4390-bf95-dd1ff8b17899",
   "metadata": {},
   "source": [
    "Напишите функцию date_range, которая возвращает список дат за период от start_date \n",
    "до end_date. Даты должны вводиться в формате YYYY-MM-DD. В случае неверног \r\n",
    "формата или при start_date > end_date должен возвращаться пустой списокфайла.\r",
    ".\r"
   ]
  },
  {
   "cell_type": "code",
   "execution_count": 10,
   "id": "cd4cc707-3c0f-4e94-bc87-55be355882a0",
   "metadata": {},
   "outputs": [],
   "source": [
    "from typing import List"
   ]
  },
  {
   "cell_type": "code",
   "execution_count": 11,
   "id": "09151d2b-b8d0-4f35-b965-5abb455e85fe",
   "metadata": {},
   "outputs": [],
   "source": [
    "def date_range(start_date: str, end_date: str) -> List[datetime.datetime]:\n",
    "    start_dtm = datetime.datetime.strptime(start_date, \"%Y-%m-%d\").toordinal()\n",
    "    end_dtm = datetime.datetime.strptime(end_date, \"%Y-%m-%d\").toordinal()\n",
    "    output = []\n",
    "    for i in range(start_dtm, end_dtm + 1):\n",
    "        output.append(datetime.datetime.fromordinal(i).strftime(\"%Y-%m-%d\"))\n",
    "    return output"
   ]
  },
  {
   "cell_type": "code",
   "execution_count": 12,
   "id": "3a7bb9a7-584c-475e-bb94-d62bdccda5ad",
   "metadata": {},
   "outputs": [
    {
     "data": {
      "text/plain": [
       "['2022-01-01', '2022-01-02', '2022-01-03']"
      ]
     },
     "execution_count": 12,
     "metadata": {},
     "output_type": "execute_result"
    }
   ],
   "source": [
    "date_range(\"2022-01-01\", \"2022-01-03\")"
   ]
  },
  {
   "cell_type": "code",
   "execution_count": null,
   "id": "d49e4771-5653-42f6-aa48-877d6dab6116",
   "metadata": {},
   "outputs": [],
   "source": []
  }
 ],
 "metadata": {
  "kernelspec": {
   "display_name": "Python 3 (ipykernel)",
   "language": "python",
   "name": "python3"
  },
  "language_info": {
   "codemirror_mode": {
    "name": "ipython",
    "version": 3
   },
   "file_extension": ".py",
   "mimetype": "text/x-python",
   "name": "python",
   "nbconvert_exporter": "python",
   "pygments_lexer": "ipython3",
   "version": "3.12.4"
  }
 },
 "nbformat": 4,
 "nbformat_minor": 5
}
