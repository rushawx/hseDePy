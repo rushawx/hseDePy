{
 "cells": [
  {
   "cell_type": "markdown",
   "id": "b8c032e2-3979-4151-a77f-002b503920e6",
   "metadata": {},
   "source": [
    "Шишков Антон"
   ]
  },
  {
   "cell_type": "markdown",
   "id": "c06baab8-7e1e-49e5-9579-7f64026b5c05",
   "metadata": {},
   "source": [
    "# Задача №1"
   ]
  },
  {
   "cell_type": "markdown",
   "id": "878aec7c-2772-45ab-8554-376318fb3bba",
   "metadata": {},
   "source": [
    "Требуется параллельно (насколько возможно с помощью потоков) выполнить \n",
    "вычисления по формуле 1, вычисления по формуле 2. Затем выполнит \r\n",
    "вычисления по формуле 3, которые выглядят следующим образом: результ т\r\n",
    "вычислений 1 + результат вычислений 2.\r\n",
    "Выполнить последовательно на 10 000 итераций и 100 000 итера ий.\r\n",
    "Формула 1: f(x) = x^2-x^2+x*4-x* +x+x\r\n",
    "Формула 2: f(x) = x+x\r\n",
    "Вывести длительность выполнения всех 10 000 итераций и 100 000 ите аций в\r\n",
    "секундах в разбивке по шагам вычислений 1, 2 и 3.х."
   ]
  },
  {
   "cell_type": "code",
   "execution_count": 4,
   "id": "e37df1cf-4708-4dca-b696-83bfd9bc76c1",
   "metadata": {},
   "outputs": [],
   "source": [
    "import time\n",
    "import threading"
   ]
  },
  {
   "cell_type": "code",
   "execution_count": 5,
   "id": "63490233-462a-4b8d-803c-9f8561c780f2",
   "metadata": {},
   "outputs": [],
   "source": [
    "def foo_1():\n",
    "    output = 0\n",
    "    global x_1\n",
    "    while x_1 > 0:\n",
    "        output += x_1**2 - x_1**2 + x_1*4 - x_1*5 + x_1 + x_1\n",
    "        x_1 -= 1\n",
    "    return output"
   ]
  },
  {
   "cell_type": "code",
   "execution_count": 6,
   "id": "3585a645-a32e-4e4a-b07f-1cb9219b8a29",
   "metadata": {},
   "outputs": [],
   "source": [
    "def foo_2():\n",
    "    output = 0\n",
    "    global x_2\n",
    "    while x_2 > 0:\n",
    "        output += x_2 + x_2\n",
    "        x_2 -= 1\n",
    "    return output"
   ]
  },
  {
   "cell_type": "code",
   "execution_count": 7,
   "id": "45104f46-ae02-404f-bc36-31c617c40bd8",
   "metadata": {},
   "outputs": [
    {
     "name": "stdout",
     "output_type": "stream",
     "text": [
      "0.01113271713256836\n",
      "0.005767822265625\n"
     ]
    }
   ],
   "source": [
    "t_1 = threading.Thread(target=foo_1)\n",
    "x_1 = 10000\n",
    "start_t_1 = time.time()\n",
    "t_1.start()\n",
    "print(time.time() - start_t_1)\n",
    "\n",
    "t_2 = threading.Thread(target=foo_2)\n",
    "x_2 = 100000\n",
    "start_2_1 = time.time()\n",
    "t_2.start()\n",
    "print(time.time() - start_2_1)"
   ]
  },
  {
   "cell_type": "code",
   "execution_count": 8,
   "id": "bf24653c-9db1-4de2-84d7-d6dc7ab9e639",
   "metadata": {},
   "outputs": [],
   "source": [
    "def foo_3():\n",
    "    return foo_1() + foo_2()"
   ]
  },
  {
   "cell_type": "code",
   "execution_count": 9,
   "id": "acc98f3f-1dc6-46e7-996c-08a9d9e13a4b",
   "metadata": {},
   "outputs": [
    {
     "name": "stdout",
     "output_type": "stream",
     "text": [
      "0.03300189971923828\n"
     ]
    }
   ],
   "source": [
    "t_1 = threading.Thread(target=foo_1)\n",
    "x_1 = 10000\n",
    "\n",
    "\n",
    "t_2 = threading.Thread(target=foo_2)\n",
    "x_2 = 100000\n",
    "\n",
    "start = time.time()\n",
    "t_1.start()\n",
    "t_2.start()\n",
    "foo_3()\n",
    "print(time.time() - start)"
   ]
  },
  {
   "cell_type": "markdown",
   "id": "5bd6f8bf-18ee-48cb-ba4a-73987d8cc0fb",
   "metadata": {},
   "source": [
    "# Задача №2"
   ]
  },
  {
   "cell_type": "markdown",
   "id": "3a22c10a-a22f-4081-b9d0-676962799e6f",
   "metadata": {},
   "source": [
    "Требуется параллельно (насколько возможно с помощью процессов) выполнить вычисления по формуле 1, вычисления по формуле 2. Затем выполнит вычисления по формуле 3, которые выглядят следующим образом: результ т вычислений 1 + результат вычислений 2. Выполнить последовательно на 10 000 итераций и 100 000 итера ий. Формула 1: f(x) = x^2-x^2+x4-x +x+x Формула 2: f(x) = x+x Вывести длительность выполнения всех 10 000 итераций и 100 000 ите аций в секундах в разбивке по шагам вычислений 1, 2 и 3.х."
   ]
  },
  {
   "cell_type": "code",
   "execution_count": 12,
   "id": "2f3a3557-8069-4629-9d82-f881a3ee9b4e",
   "metadata": {},
   "outputs": [
    {
     "name": "stdout",
     "output_type": "stream",
     "text": [
      "0.012033700942993164\n",
      "0.007710695266723633\n",
      "0.06994843482971191\n"
     ]
    }
   ],
   "source": [
    "import os\n",
    "from multiprocessing import Process, Pipe\n",
    "\n",
    "pid = os.getpid()\n",
    "\n",
    "\n",
    "def foo_1():\n",
    "    output = 0\n",
    "    global x_1\n",
    "    while x_1 > 0:\n",
    "        output += x_1**2 - x_1**2 + x_1*4 - x_1*5 + x_1 + x_1\n",
    "        x_1 -= 1\n",
    "    return output\n",
    "\n",
    "\n",
    "def foo_2():\n",
    "    output = 0\n",
    "    global x_2\n",
    "    while x_2 > 0:\n",
    "        output += x_2 + x_2\n",
    "        x_2 -= 1\n",
    "    return output\n",
    "\n",
    "\n",
    "def foo_3():\n",
    "    return foo_1() + foo_2()\n",
    "\n",
    "\n",
    "if __name__ == '__main__':\n",
    "    \n",
    "    p_1 = Process(target=foo_1)\n",
    "    x_1 = 10000\n",
    "    start_t_1 = time.time()\n",
    "    p_1.start()\n",
    "    print(time.time() - start_t_1)\n",
    "\n",
    "    p_2 = Process(target=foo_2)\n",
    "    x_2 = 10000\n",
    "    start_t_2 = time.time()\n",
    "    p_2.start()\n",
    "    print(time.time() - start_t_2)\n",
    "\n",
    "    p_1 = Process(target=foo_1)\n",
    "    p_2 = Process(target=foo_2)\n",
    "    x_1 = 10000\n",
    "    x_2 = 100000\n",
    "    start = time.time()\n",
    "    p_1.start()\n",
    "    p_2.start()\n",
    "    foo_3()\n",
    "    print(time.time() - start)"
   ]
  },
  {
   "cell_type": "code",
   "execution_count": null,
   "id": "99ea346f-8cdf-4e36-a189-e9e9b9d86967",
   "metadata": {},
   "outputs": [],
   "source": []
  }
 ],
 "metadata": {
  "kernelspec": {
   "display_name": "anaconda-ai-2024.04-py310",
   "language": "python",
   "name": "conda-env-anaconda-ai-2024.04-py310-py"
  },
  "language_info": {
   "codemirror_mode": {
    "name": "ipython",
    "version": 3
   },
   "file_extension": ".py",
   "mimetype": "text/x-python",
   "name": "python",
   "nbconvert_exporter": "python",
   "pygments_lexer": "ipython3",
   "version": "3.10.13"
  }
 },
 "nbformat": 4,
 "nbformat_minor": 5
}
