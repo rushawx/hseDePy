{
 "cells": [
  {
   "cell_type": "markdown",
   "id": "7f6e323a-4261-4cd6-87be-3ee680b4936d",
   "metadata": {},
   "source": [
    "Шишков Антон"
   ]
  },
  {
   "cell_type": "markdown",
   "id": "9e48e99c-f725-47f0-bbc7-12ef983174d9",
   "metadata": {},
   "source": [
    "# Задача №1"
   ]
  },
  {
   "cell_type": "markdown",
   "id": "15f42f65-305a-42e8-9b2a-a34967906f3a",
   "metadata": {},
   "source": [
    "\n",
    "Дана переменная, в которой хранится четырёхзначное число (год). Необходимо написат \r\n",
    "программу, которая выведет, является этот год високосным или обычным."
   ]
  },
  {
   "cell_type": "code",
   "execution_count": 3,
   "id": "4455a866-0ff5-4669-b89f-1a5f2d623aae",
   "metadata": {},
   "outputs": [],
   "source": [
    "def is_leap_year(year: int) -> bool:\n",
    "    resp = False\n",
    "    if year % 400 == 0:\n",
    "        resp = True\n",
    "    elif year % 100 == 0:\n",
    "        resp = False\n",
    "    elif year % 4 == 0:\n",
    "        resp = True\n",
    "    return resp"
   ]
  },
  {
   "cell_type": "code",
   "execution_count": 4,
   "id": "ee8ba3c9-cb11-49ec-a219-00909276349b",
   "metadata": {},
   "outputs": [],
   "source": [
    "test_cases = [\n",
    "    (2020, True),\n",
    "    (2019, False),\n",
    "    (2000, True),\n",
    "    (2100, False),\n",
    "    (2024, True),\n",
    "]"
   ]
  },
  {
   "cell_type": "code",
   "execution_count": 5,
   "id": "96d79cc9-cbb8-412d-9c7c-56862c989e1f",
   "metadata": {},
   "outputs": [
    {
     "name": "stdout",
     "output_type": "stream",
     "text": [
      "True\n",
      "True\n",
      "True\n",
      "True\n",
      "True\n"
     ]
    }
   ],
   "source": [
    "for test_case in test_cases:\n",
    "    print(test_case[1] == is_leap_year(test_case[0]))"
   ]
  },
  {
   "cell_type": "markdown",
   "id": "13f9df40-c6bd-4a8d-979b-d201750acc46",
   "metadata": {},
   "source": [
    "# Задача №2"
   ]
  },
  {
   "cell_type": "markdown",
   "id": "28299429-1751-4390-bf95-dd1ff8b17899",
   "metadata": {},
   "source": [
    "Дана переменная, в которой хранится шестизначное число (номер проездного билета). \n",
    "Напишите программу, которая будет определять, является ли этот билет счастливым \r\n",
    "Билет считается счастливым, если сумма первых трёх цифр совпадает с сумм й\r\n",
    "последних трёх цифр номеа.\r"
   ]
  },
  {
   "cell_type": "code",
   "execution_count": 8,
   "id": "aa86a03b-fc9d-4b79-a5ee-e6246d4c9f68",
   "metadata": {},
   "outputs": [],
   "source": [
    "def is_lucky_ticket(number: int) -> bool:\n",
    "    return sum(list(map(int, str(number)))[0:3]) == sum(list(map(int, str(number)))[3:6])"
   ]
  },
  {
   "cell_type": "code",
   "execution_count": 9,
   "id": "2327b544-558e-4a61-943b-ccbee4e45642",
   "metadata": {},
   "outputs": [],
   "source": [
    "test_cases = [\n",
    "    (123456, False),\n",
    "    (123321, True),\n",
    "    (102300, True)\n",
    "]"
   ]
  },
  {
   "cell_type": "code",
   "execution_count": 10,
   "id": "f154e901-3e95-412c-bdf7-920af9775998",
   "metadata": {},
   "outputs": [
    {
     "name": "stdout",
     "output_type": "stream",
     "text": [
      "True\n",
      "True\n",
      "True\n"
     ]
    }
   ],
   "source": [
    "for test_case in test_cases:\n",
    "    print(test_case[1] == is_lucky_ticket(test_case[0]))"
   ]
  },
  {
   "cell_type": "code",
   "execution_count": null,
   "id": "09151d2b-b8d0-4f35-b965-5abb455e85fe",
   "metadata": {},
   "outputs": [],
   "source": []
  }
 ],
 "metadata": {
  "kernelspec": {
   "display_name": "Python 3 (ipykernel)",
   "language": "python",
   "name": "python3"
  },
  "language_info": {
   "codemirror_mode": {
    "name": "ipython",
    "version": 3
   },
   "file_extension": ".py",
   "mimetype": "text/x-python",
   "name": "python",
   "nbconvert_exporter": "python",
   "pygments_lexer": "ipython3",
   "version": "3.12.4"
  }
 },
 "nbformat": 4,
 "nbformat_minor": 5
}
