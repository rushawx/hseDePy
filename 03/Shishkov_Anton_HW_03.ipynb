{
 "cells": [
  {
   "cell_type": "markdown",
   "id": "6faa8a83-27f2-476d-9252-2b1f8f9e998a",
   "metadata": {},
   "source": [
    "# Домашнее задание"
   ]
  },
  {
   "cell_type": "markdown",
   "id": "fe98a93c-586b-4ef2-b198-0c06b971b478",
   "metadata": {},
   "source": [
    "Нужно реализовать класс Account, который отражает абстракцию базового \n",
    "поведения банковского аккаунта ● создать банковский аккаунт с параметрами: имя; стартовый баланс с\r\n",
    "которым зарегистрирован аккаунт; история опера;\r\n",
    "● реализовать два метода, которые позволяют положить деньги на  чёт\r\n",
    "или снять деньги со ; а;\r\n",
    "● продумать, как можно хранить историю поступления или  нятия\r\n",
    "денег, чтобы с ней было удобно ртать*.\r"
   ]
  },
  {
   "cell_type": "markdown",
   "id": "b60dea0d-ed77-4dd0-b995-438bce9bf33e",
   "metadata": {},
   "source": [
    "# Реализация"
   ]
  },
  {
   "cell_type": "code",
   "execution_count": 4,
   "id": "71ac5bb3-10db-4156-ae81-2e8783f0b11d",
   "metadata": {},
   "outputs": [],
   "source": [
    "import datetime\n",
    "import uuid\n",
    "import pprint"
   ]
  },
  {
   "cell_type": "code",
   "execution_count": 5,
   "id": "98a06526-0a37-4c2e-b554-075f8b8ba547",
   "metadata": {},
   "outputs": [],
   "source": [
    "class Account:\n",
    "    \n",
    "    def __init__(self, name, balance):\n",
    "        if balance < 0:\n",
    "            raise ValueError('balance can not be negative')\n",
    "        self.name = name\n",
    "        self.balance = balance\n",
    "        self.logs = []\n",
    "\n",
    "    def topup(self, amount):\n",
    "        if amount < 1:\n",
    "            raise ValueError('amount should be positive')\n",
    "        self.balance += amount\n",
    "        self.record_log(operation='topup', amount=amount)\n",
    "\n",
    "    def withdraw(self, amount):\n",
    "        if amount < 1:\n",
    "            raise ValueError('amount should be positive')\n",
    "        elif amount > self.balance:\n",
    "            raise ValueError('amount should be equal or less than balance')\n",
    "        self.balance -= amount\n",
    "        self.record_log(operation='withdraw', amount=amount)\n",
    "\n",
    "    def record_log(self, operation, amount):\n",
    "        self.logs.append((uuid.uuid4(), datetime.datetime.now(), self.name, self.balance, operation, amount))\n",
    "\n",
    "    def print_logs(self):\n",
    "        pprint.pprint(self.logs)"
   ]
  },
  {
   "cell_type": "markdown",
   "id": "f9f573ea-1a51-492b-8af5-ba0fa482b235",
   "metadata": {},
   "source": [
    "# Тесты"
   ]
  },
  {
   "cell_type": "markdown",
   "id": "ae7e84bd-4e79-4ac3-9fc4-bc9b55ef85d9",
   "metadata": {},
   "source": [
    "## Создание"
   ]
  },
  {
   "cell_type": "code",
   "execution_count": 8,
   "id": "ec81d9ae-8917-4e7b-bf70-adef7e1ae1f3",
   "metadata": {},
   "outputs": [],
   "source": [
    "account = Account('account', 1000)"
   ]
  },
  {
   "cell_type": "code",
   "execution_count": 9,
   "id": "803049fd-6b12-4e4b-9f7c-5fca22c5a713",
   "metadata": {},
   "outputs": [],
   "source": [
    "assert account.name == 'account'\n",
    "assert account.balance == 1000"
   ]
  },
  {
   "cell_type": "markdown",
   "id": "6ea5b0f1-92ab-4cb7-b0d6-8047e45a3887",
   "metadata": {},
   "source": [
    "## Пополнение"
   ]
  },
  {
   "cell_type": "code",
   "execution_count": 11,
   "id": "c513602f-e79c-485b-9b13-46111e166de3",
   "metadata": {},
   "outputs": [],
   "source": [
    "account.topup(100)"
   ]
  },
  {
   "cell_type": "code",
   "execution_count": 12,
   "id": "3c7a386b-ba6e-488c-9ae2-fe1080e2af8a",
   "metadata": {},
   "outputs": [],
   "source": [
    "assert account.balance == 1100\n",
    "assert account.logs[0][2:] == ('account', 1100, 'topup', 100)"
   ]
  },
  {
   "cell_type": "markdown",
   "id": "69d3b20b-ea59-4a9e-bd89-748e92a63490",
   "metadata": {},
   "source": [
    "## Снятие"
   ]
  },
  {
   "cell_type": "code",
   "execution_count": 14,
   "id": "4a01f768-cbe6-49c5-a9cf-5e285ae4add6",
   "metadata": {},
   "outputs": [],
   "source": [
    "account.withdraw(100)"
   ]
  },
  {
   "cell_type": "code",
   "execution_count": 15,
   "id": "406d7d9e-f4df-47b3-bc89-859e5b0780b7",
   "metadata": {},
   "outputs": [],
   "source": [
    "assert account.balance == 1000\n",
    "assert account.logs[1][2:] == ('account', 1000, 'withdraw', 100)"
   ]
  },
  {
   "cell_type": "markdown",
   "id": "3d3261d9-9f31-4b71-bbe0-50a0743d8e97",
   "metadata": {},
   "source": [
    "## Отображение"
   ]
  },
  {
   "cell_type": "code",
   "execution_count": 17,
   "id": "7289c013-fd46-4796-83a6-9604bff34221",
   "metadata": {},
   "outputs": [
    {
     "name": "stdout",
     "output_type": "stream",
     "text": [
      "[(UUID('e7ad23be-4564-498f-ac1d-d11885124153'),\n",
      "  datetime.datetime(2024, 9, 22, 7, 12, 3, 828471),\n",
      "  'account',\n",
      "  1100,\n",
      "  'topup',\n",
      "  100),\n",
      " (UUID('524c44fd-2184-4cbf-a3aa-ad5b7ec4ed4f'),\n",
      "  datetime.datetime(2024, 9, 22, 7, 12, 4, 569471),\n",
      "  'account',\n",
      "  1000,\n",
      "  'withdraw',\n",
      "  100)]\n"
     ]
    }
   ],
   "source": [
    "account.print_logs()"
   ]
  },
  {
   "cell_type": "markdown",
   "id": "3a159cc4-6b80-4957-9686-eae0cb741d97",
   "metadata": {},
   "source": [
    "## Валидация"
   ]
  },
  {
   "cell_type": "code",
   "execution_count": 19,
   "id": "8203afeb-9427-43d7-a233-a7a8d3d6ddc2",
   "metadata": {},
   "outputs": [
    {
     "name": "stdout",
     "output_type": "stream",
     "text": [
      "amount should be positive\n"
     ]
    }
   ],
   "source": [
    "try:\n",
    "    account.topup(-100)\n",
    "except ValueError as ve:\n",
    "    print(ve)"
   ]
  },
  {
   "cell_type": "code",
   "execution_count": 20,
   "id": "626695d9-74c7-4294-b307-48ed369c21cc",
   "metadata": {},
   "outputs": [
    {
     "name": "stdout",
     "output_type": "stream",
     "text": [
      "amount should be positive\n"
     ]
    }
   ],
   "source": [
    "try:\n",
    "    account.withdraw(-100)\n",
    "except ValueError as ve:\n",
    "    print(ve)"
   ]
  },
  {
   "cell_type": "code",
   "execution_count": 21,
   "id": "d90fef92-4f11-495c-8e9f-62bc82cf7b31",
   "metadata": {},
   "outputs": [
    {
     "name": "stdout",
     "output_type": "stream",
     "text": [
      "amount should be equal or less than balance\n"
     ]
    }
   ],
   "source": [
    "try:\n",
    "    account.withdraw(account.balance + 1)\n",
    "except ValueError as ve:\n",
    "    print(ve)"
   ]
  },
  {
   "cell_type": "code",
   "execution_count": 22,
   "id": "73b4dcc1-3516-456a-896f-b0066aec1c7d",
   "metadata": {},
   "outputs": [
    {
     "name": "stdout",
     "output_type": "stream",
     "text": [
      "balance can not be negative\n"
     ]
    }
   ],
   "source": [
    "try:\n",
    "    account_negative = Account('account_negative', -100)\n",
    "except ValueError as ve:\n",
    "    print(ve)"
   ]
  },
  {
   "cell_type": "code",
   "execution_count": null,
   "id": "1ca5a3c9-082e-46cf-affc-fac3eb6649da",
   "metadata": {},
   "outputs": [],
   "source": []
  }
 ],
 "metadata": {
  "kernelspec": {
   "display_name": "Python 3 (ipykernel)",
   "language": "python",
   "name": "python3"
  },
  "language_info": {
   "codemirror_mode": {
    "name": "ipython",
    "version": 3
   },
   "file_extension": ".py",
   "mimetype": "text/x-python",
   "name": "python",
   "nbconvert_exporter": "python",
   "pygments_lexer": "ipython3",
   "version": "3.12.4"
  }
 },
 "nbformat": 4,
 "nbformat_minor": 5
}
